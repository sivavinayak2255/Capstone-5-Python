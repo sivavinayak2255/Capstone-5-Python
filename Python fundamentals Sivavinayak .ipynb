{
 "cells": [
  {
   "cell_type": "markdown",
   "metadata": {
    "delateable": false,
    "editable": false
   },
   "source": [
    "# <div class=\"alert alert-block alert-info\"> <span style=\"font-family: Times New Roman\">Assignment on python fundamentals</span> </div>\n"
   ]
  },
  {
   "cell_type": "markdown",
   "metadata": {
    "delateable": false,
    "editable": false
   },
   "source": [
    "###### Note: \n",
    "<div class=\"alert alert-block alert-danger\"> <span style=\"font-family: Times New Roman\"> \n",
    "    - Kindly use this notebook to solve the programming problems. <br>\n",
    "- Submit assignments with .ipynb file extension only.<br>\n",
    "- Kindly use comments or markdowns to explain logic behind the codes, approach to solve the problem.</span></div>"
   ]
  },
  {
   "cell_type": "markdown",
   "metadata": {
    "delateable": false,
    "editable": false
   },
   "source": [
    "<div class=\"warning\" style='padding:0.1em; background-color:#E9D8FD; color:#69337A'>\n",
    "<span>\n",
    "<p style='margin-top:1em; text-align:left'>\n",
    "<b>1. By using a single 'print' function print the provided string in specified execution format. </b></p>\n",
    "    \n",
    "Hello World     \n",
    "Welcome to 'Python' Programming\n",
    "\n"
   ]
  },
  {
   "cell_type": "code",
   "execution_count": null,
   "metadata": {},
   "outputs": [],
   "source": [
    "print('Hello World')\n",
    "print(\"Welcome to 'Python' Programming\")\n"
   ]
  },
  {
   "cell_type": "markdown",
   "metadata": {
    "delateable": false,
    "editable": false
   },
   "source": [
    "<div class=\"warning\" style='padding:0.1em; background-color:#E9D8FD; color:#69337A'>\n",
    "<span>\n",
    "<p style='margin-top:1em; text-align:left'>\n",
    "<b>2. Check the python version which you are using. </b></p>\n",
    "</span></div>\n"
   ]
  },
  {
   "cell_type": "code",
   "execution_count": null,
   "metadata": {},
   "outputs": [],
   "source": [
    "! python --version\n"
   ]
  },
  {
   "cell_type": "markdown",
   "metadata": {
    "delateable": false,
    "editable": false
   },
   "source": [
    "<div class=\"warning\" style='padding:0.1em; background-color:#E9D8FD; color:#69337A'>\n",
    "<span>\n",
    "<p style='margin-top:1em; text-align:left'>\n",
    "<b>3. Design a Python program which can calculate the area by taking radius as input by 'user input' method. </b></p>\n",
    "<table>\n",
    "  <tr>\n",
    "  <td><td>\n",
    "      <br> instead of giving direct values try using \"<b>float(input())</b>\" </td>\n",
    "  </tr>\n",
    "</table>\n",
    "</span>\n",
    "</div>\n"
   ]
  },
  {
   "cell_type": "code",
   "execution_count": null,
   "metadata": {},
   "outputs": [],
   "source": [
    "# Defined the function\n",
    "def calculate_circle_area():\n",
    "    # Take radius input from the user\n",
    "    radius = float(input(\"Enter the radius of the circle: \"))\n",
    "    \n",
    "    # Calculate the area of the circle\n",
    "    area = 3.14159 * radius ** 2\n",
    "    \n",
    "    # Display the result\n",
    "    print(f\"The area of the circle with radius {radius} is: {area:.2f}\")\n",
    "\n",
    "# Call the function\n",
    "calculate_circle_area()"
   ]
  },
  {
   "cell_type": "markdown",
   "metadata": {
    "delateable": false,
    "editable": false
   },
   "source": [
    "<div class=\"warning\" style='padding:0.1em; background-color:#E9D8FD; color:#69337A'>\n",
    "<span>\n",
    "<p style='margin-top:1em; text-align:left'>\n",
    "<b>4. Write a python program which can take your first and last name seperately and execute as shown below. </b></p>\n",
    "<table>\n",
    "  <tr>\n",
    "  <td><td>\n",
    "      <br><b>Sample execution</b> : Hello 'first name' 'last name', hope you are doing good</td>\n",
    "  </tr>\n",
    "</table>\n",
    "</span></div>\n"
   ]
  },
  {
   "cell_type": "code",
   "execution_count": null,
   "metadata": {},
   "outputs": [],
   "source": [
    "# Defined the function\n",
    "def greet_user():\n",
    "    # Take first and last name as input from the user\n",
    "    first_name = input(\"Enter your first name: \")\n",
    "    last_name = input(\"Enter your last name: \")\n",
    "    \n",
    "    # Display the greeting message\n",
    "    print(f\"Hello '{first_name}' '{last_name}', hope you are doing good\")\n",
    "\n",
    "# Call the function\n",
    "greet_user()\n"
   ]
  },
  {
   "cell_type": "markdown",
   "metadata": {
    "delateable": false,
    "editable": false
   },
   "source": [
    "<div class=\"warning\" style='padding:0.1em; background-color:#E9D8FD; color:#69337A'>\n",
    "<span>\n",
    "<p style='margin-top:1em; text-align:left'>\n",
    "<b>5. Write a python program which can convert kilograms to grams.</b></p>\n",
    "</span></div>\n",
    "\n"
   ]
  },
  {
   "cell_type": "code",
   "execution_count": 1,
   "metadata": {},
   "outputs": [
    {
     "name": "stdout",
     "output_type": "stream",
     "text": [
      "Enter the weight in kilograms: 12\n",
      "12.0 kilograms is equal to 12000.0 grams.\n"
     ]
    }
   ],
   "source": [
    "# Defined the function\n",
    "def kg_to_grams():\n",
    "    # Take the weight in kilograms as input from the user\n",
    "    kilograms = float(input(\"Enter the weight in kilograms: \"))\n",
    "    \n",
    "    # Convert kilograms to grams\n",
    "    grams = kilograms * 1000\n",
    "    \n",
    "    # Display the result\n",
    "    print(f\"{kilograms} kilograms is equal to {grams} grams.\")\n",
    "\n",
    "# Call the function\n",
    "kg_to_grams()"
   ]
  },
  {
   "cell_type": "markdown",
   "metadata": {
    "delateable": false,
    "editable": false
   },
   "source": [
    "<div class=\"warning\" style='padding:0.1em; background-color:#E9D8FD; color:#69337A'>\n",
    "<span>\n",
    "<p style='margin-top:1em; text-align:left'>\n",
    "<b>6. Create a list and store the given elements in the list, and solve the following questions listed below.</b></p>\n",
    "<table>\n",
    "  <tr>\n",
    "  <td><td>\n",
    "      <br><b>Elements</b>: 'Bengaluru','New York', 1971, '1682', (1,2,3,4,5,'Is this tuple?'),\"'Hello,welcome to Python Programming'\"</td>\n",
    "  </tr>\n",
    "</table>\n",
    "</span>  \n",
    "\n",
    "- Try to extract entire tuple by using positive indexing  \n",
    "- Can we add elements into tuple after creating it?\n",
    "- Remove '1682' and 'New York' from the list\n",
    "- Discuss one practical application of tuple and lists\n",
    "- Access 'Bengaluru' by Negitive indexing\n",
    "- add 'Mumbai' into the list\n",
    "\n",
    "- Try to perform one operation on each removal operation on lists \n",
    "\n",
    "1. del\n",
    "2. remove\n",
    "3. pop\n",
    "- Try to perform one operation on each operational\n",
    "1. append\n",
    "2. entend\n",
    "3. insert</div>"
   ]
  },
  {
   "cell_type": "code",
   "execution_count": 7,
   "metadata": {},
   "outputs": [
    {
     "name": "stdout",
     "output_type": "stream",
     "text": [
      "Extracted tuple: (1, 2, 3, 4, 5, 'Is this tuple?')\n",
      "Can we add elements into a tuple after creating it? No, tuples are immutable.\n",
      "List after removing '1682' and 'New York': ['Bengaluru', 1971, (1, 2, 3, 4, 5, 'Is this tuple?'), \"'Hello,welcome to Python Programming'\"]\n",
      "Accessing 'Bengaluru' using negative indexing: Bengaluru\n",
      "List after adding 'Mumbai': ['Bengaluru', 1971, (1, 2, 3, 4, 5, 'Is this tuple?'), \"'Hello,welcome to Python Programming'\", 'Mumbai']\n",
      "List after del operation: ['Bengaluru', (1, 2, 3, 4, 5, 'Is this tuple?'), \"'Hello,welcome to Python Programming'\", 'Mumbai']\n",
      "List after remove operation: ['Bengaluru', (1, 2, 3, 4, 5, 'Is this tuple?'), 'Mumbai']\n",
      "List after pop operation (removed 'Mumbai'): ['Bengaluru', (1, 2, 3, 4, 5, 'Is this tuple?')]\n",
      "List after append operation: ['Bengaluru', (1, 2, 3, 4, 5, 'Is this tuple?'), 'Chennai']\n",
      "List after extend operation: ['Bengaluru', (1, 2, 3, 4, 5, 'Is this tuple?'), 'Chennai', 'Delhi', 'Kolkata']\n",
      "List after insert operation: ['Bengaluru', 'Hyderabad', (1, 2, 3, 4, 5, 'Is this tuple?'), 'Chennai', 'Delhi', 'Kolkata']\n"
     ]
    }
   ],
   "source": [
    "# Defined the function\n",
    "def list_and_tuple_operations():\n",
    "    # Creating a list with the given elements\n",
    "    elements = [\n",
    "        'Bengaluru',\n",
    "        'New York',\n",
    "        1971,\n",
    "        '1682',\n",
    "        (1, 2, 3, 4, 5, 'Is this tuple?'),\n",
    "        \"'Hello,welcome to Python Programming'\"\n",
    "    ]\n",
    "\n",
    "    # Extract the entire tuple using positive indexing\n",
    "    extracted_tuple = elements[4]\n",
    "    print(f\"Extracted tuple: {extracted_tuple}\")\n",
    "\n",
    "    # Can we add elements into a tuple after creating it?\n",
    "    print(\"Can we add elements into a tuple after creating it? No, tuples are immutable.\")\n",
    "\n",
    "    # Remove '1682' and 'New York' from the list\n",
    "    elements.remove('1682')\n",
    "    elements.remove('New York')\n",
    "    print(f\"List after removing '1682' and 'New York': {elements}\")\n",
    "\n",
    "    # Access 'Bengaluru' by negative indexing\n",
    "    bengaluru = elements[-4]  # 'Bengaluru' is the first element in the modified list\n",
    "    print(f\"Accessing 'Bengaluru' using negative indexing: {bengaluru}\")\n",
    "\n",
    "    # Add 'Mumbai' into the list\n",
    "    elements.append('Mumbai')\n",
    "    print(f\"List after adding 'Mumbai': {elements}\")\n",
    "\n",
    "    # Perform one operation for each removal method\n",
    "    # Using del\n",
    "    del elements[1]  # Remove the third element (1971 in this case)\n",
    "    print(f\"List after del operation: {elements}\")\n",
    "\n",
    "    # Using remove\n",
    "    elements.remove(\"'Hello,welcome to Python Programming'\")\n",
    "    print(f\"List after remove operation: {elements}\")\n",
    "\n",
    "    # Using pop\n",
    "    popped_element = elements.pop()  # Remove the last element\n",
    "    print(f\"List after pop operation (removed '{popped_element}'): {elements}\")\n",
    "\n",
    "    # Perform one operation for each addition method\n",
    "    # Using append\n",
    "    elements.append('Chennai')\n",
    "    print(f\"List after append operation: {elements}\")\n",
    "\n",
    "    # Using extend\n",
    "    elements.extend(['Delhi', 'Kolkata'])\n",
    "    print(f\"List after extend operation: {elements}\")\n",
    "\n",
    "    # Using insert\n",
    "    elements.insert(1, 'Hyderabad')\n",
    "    print(f\"List after insert operation: {elements}\")\n",
    "\n",
    "# Call the function\n",
    "list_and_tuple_operations()\n"
   ]
  },
  {
   "cell_type": "markdown",
   "metadata": {
    "delateable": false,
    "editable": false
   },
   "source": [
    "<div class=\"warning\" style='padding:0.1em; background-color:#E9D8FD; color:#69337A'>\n",
    "<span>\n",
    "<p style='margin-top:1em; text-align:left'>\n",
    "<b>7. Write a python program which can calculate the electricity bill by considering the no. of units consumed and other parameters are mentioned below.</b></p>\n",
    "</span>  \n",
    "\n",
    "- If units consumed is less than 50 then bill amount should be 100INR.\n",
    "- If units consumed between 50 - 300 then each unit will be charged at 4.5 INR.\n",
    "- If units are consumed more than 300 then that billed individual have to pay base pay as 1000INR and 300 units will be reduced from his total consumed units and for remaining units 7 INR will be charged for each unit.\n",
    "</div>\n",
    "\n",
    "\n"
   ]
  },
  {
   "cell_type": "code",
   "execution_count": 11,
   "metadata": {},
   "outputs": [
    {
     "name": "stdout",
     "output_type": "stream",
     "text": [
      "Enter the number of units consumed: 299\n",
      "The total electricity bill for 299.0 units is: 1345.50 INR\n"
     ]
    }
   ],
   "source": [
    "# Defined the function\n",
    "def calculate_electricity_bill():\n",
    "    # Take input for the number of units consumed\n",
    "    units_consumed = float(input(\"Enter the number of units consumed: \"))\n",
    "\n",
    "    # Initialize bill amount\n",
    "    bill_amount = 0\n",
    "\n",
    "    # Calculate bill based on units consumed\n",
    "    if units_consumed < 50:\n",
    "        bill_amount = 100  # Flat rate for less than 50 units\n",
    "    elif 50 <= units_consumed <= 300:\n",
    "        bill_amount = units_consumed * 4.5  # Rate of 4.5 INR per unit\n",
    "    else:\n",
    "        base_pay = 1000\n",
    "        remaining_units = units_consumed - 300\n",
    "        additional_charge = remaining_units * 7  # Rate of 7 INR for remaining units\n",
    "        bill_amount = base_pay + additional_charge\n",
    "\n",
    "    # Display the bill amount\n",
    "    print(f\"The total electricity bill for {units_consumed} units is: {bill_amount:.2f} INR\")\n",
    "\n",
    "# Call the function\n",
    "calculate_electricity_bill()"
   ]
  },
  {
   "cell_type": "markdown",
   "metadata": {
    "delateable": false,
    "editable": false
   },
   "source": [
    "<div class=\"warning\" style='padding:0.1em; background-color:#E9D8FD; color:#69337A'>\n",
    "<span>\n",
    "<p style='margin-top:1em; text-align:left'>\n",
    "<b>8. Write a program to calculate the tax of the vehicle based on the price.</b></p>\n",
    "</span>  \n",
    "- below are the parameters to consider\n",
    "\n",
    "    Cost price (in Rs)                                            Tax\n",
    "        > 150000                                                   18%\n",
    "        >100000 and <=150000                                       15 %\n",
    "        > 0 and <= 100000                                          10%\n",
    "         \n",
    "        "
   ]
  },
  {
   "cell_type": "code",
   "execution_count": 12,
   "metadata": {},
   "outputs": [
    {
     "name": "stdout",
     "output_type": "stream",
     "text": [
      "Enter the cost price of the vehicle (in Rs): 180000\n",
      "The tax for a vehicle with cost price Rs 180000.0 is: Rs 32400.00 (18%)\n"
     ]
    }
   ],
   "source": [
    "# Defined the function\n",
    "def calculate_vehicle_tax():\n",
    "    # Take input for the cost price of the vehicle\n",
    "    cost_price = float(input(\"Enter the cost price of the vehicle (in Rs): \"))\n",
    "\n",
    "    # Initialize tax rate\n",
    "    tax_rate = 0\n",
    "\n",
    "    # Determine the tax rate based on cost price\n",
    "    if cost_price > 150000:\n",
    "        tax_rate = 18\n",
    "    elif 100000 < cost_price <= 150000:\n",
    "        tax_rate = 15\n",
    "    elif 0 < cost_price <= 100000:\n",
    "        tax_rate = 10\n",
    "    else:\n",
    "        print(\"Invalid cost price entered. Please enter a positive value.\")\n",
    "        return\n",
    "\n",
    "    # Calculate the tax amount\n",
    "    tax_amount = (tax_rate / 100) * cost_price\n",
    "\n",
    "    # Display the tax amount\n",
    "    print(f\"The tax for a vehicle with cost price Rs {cost_price} is: Rs {tax_amount:.2f} ({tax_rate}%)\")\n",
    "\n",
    "# Call the function\n",
    "calculate_vehicle_tax()"
   ]
  },
  {
   "cell_type": "markdown",
   "metadata": {
    "delateable": false,
    "editable": false
   },
   "source": [
    "<div class=\"warning\" style='padding:0.1em; background-color:#E9D8FD; color:#69337A'>\n",
    "<span>\n",
    "<p style='margin-top:1em; text-align:left'>\n",
    "<b>9. Write a program to check if the input is positive or negative.</b></p>\n",
    "</span></div>\n",
    "\n"
   ]
  },
  {
   "cell_type": "code",
   "execution_count": 15,
   "metadata": {},
   "outputs": [
    {
     "name": "stdout",
     "output_type": "stream",
     "text": [
      "Enter a number: 0\n",
      "The number is zero.\n"
     ]
    }
   ],
   "source": [
    "# Defined the function\n",
    "def check_number():\n",
    "    # Take input from the user\n",
    "    number = float(input(\"Enter a number: \"))\n",
    "\n",
    "    # Check if the number is positive, negative, or zero\n",
    "    if number > 0:\n",
    "        print(f\"The number {number} is positive.\")\n",
    "    elif number < 0:\n",
    "        print(f\"The number {number} is negative.\")\n",
    "    else:\n",
    "        print(\"The number is zero.\")\n",
    "\n",
    "# Call the function\n",
    "check_number()\n"
   ]
  },
  {
   "cell_type": "markdown",
   "metadata": {
    "delateable": false,
    "editable": false
   },
   "source": [
    "<div class=\"warning\" style='padding:0.1em; background-color:#E9D8FD; color:#69337A'>\n",
    "<span>\n",
    "<p style='margin-top:1em; text-align:left'>\n",
    "<b>10. Define a function which can multiply the string with n number of times.</b></p>\n",
    "</span>\n",
    "\n",
    " \n",
    "- string = \"python programming\"</div>\n"
   ]
  },
  {
   "cell_type": "code",
   "execution_count": 2,
   "metadata": {},
   "outputs": [
    {
     "name": "stdout",
     "output_type": "stream",
     "text": [
      "Enter the number of times to multiply the string: 4\n",
      "\n",
      "python programming\n",
      "python programming\n",
      "python programming\n",
      "python programming\n"
     ]
    }
   ],
   "source": [
    "# Defined the function\n",
    "def multiply_string(string, n):\n",
    "    # The resulting multiplied string.\n",
    "    return string * n\n",
    "#The string to be multiplied.\n",
    "string = \"\\npython programming\"\n",
    "#The number of times to multiply the string.\n",
    "n = int(input(\"Enter the number of times to multiply the string: \"))\n",
    "result = multiply_string(string, n)\n",
    "#Displayed the output\n",
    "print(result)"
   ]
  },
  {
   "cell_type": "markdown",
   "metadata": {
    "delateable": false,
    "editable": false
   },
   "source": [
    "<div class=\"warning\" style='padding:0.1em; background-color:#E9D8FD; color:#69337A'>\n",
    "<span>\n",
    "<p style='margin-top:1em; text-align:left'>\n",
    "<b>11. Define a function which can sum up two numbers.</b></p>\n",
    "</span>\n",
    "\n"
   ]
  },
  {
   "cell_type": "code",
   "execution_count": 6,
   "metadata": {},
   "outputs": [
    {
     "name": "stdout",
     "output_type": "stream",
     "text": [
      "Enter the first number: 3\n",
      "Enter the second number: 5\n",
      "The sum of 3 and 5 is: 8\n"
     ]
    }
   ],
   "source": [
    "# Defined the function\n",
    "def sum_of_two(a,b):\n",
    "    # Returns the values after summation\n",
    "    return a+b\n",
    "#The first number.\n",
    "num1 = int(input(\"Enter the first number: \"))\n",
    "#The second number.\n",
    "num2 = int(input(\"Enter the second number: \"))\n",
    "result = sum_of_two(num1, num2)\n",
    "#Displayed the output\n",
    "print(f\"The sum of {num1} and {num2} is: {result}\")"
   ]
  },
  {
   "cell_type": "markdown",
   "metadata": {
    "delateable": false,
    "editable": false
   },
   "source": [
    "<div class=\"warning\" style='padding:0.1em; background-color:#E9D8FD; color:#69337A'>\n",
    "<span>\n",
    "<p style='margin-top:1em; text-align:left'>\n",
    "<b>12. Define a function which can identify if a user has entered specific string or not.</b></p>\n",
    "</span>\n",
    "\n",
    " \n",
    "- specified string = \"India\"</div>\n",
    "\n"
   ]
  },
  {
   "cell_type": "code",
   "execution_count": 7,
   "metadata": {},
   "outputs": [
    {
     "name": "stdout",
     "output_type": "stream",
     "text": [
      "Enter a string: India\n",
      "You have entered the specified string: India\n"
     ]
    }
   ],
   "source": [
    "# Defined the function\n",
    "def check_specific_string(input_string, specified_string=\"India\"):   \n",
    "    #Returns True if the specified string is found, False otherwise.\n",
    "    return input_string.strip().lower() == specified_string.lower()\n",
    "#The string entered by the user.\n",
    "user_input = input(\"Enter a string: \")\n",
    "#The string to check against (default is \"India\").\n",
    "specified_string = \"India\"\n",
    "# Checks if the user has entered the specified string.\n",
    "if check_specific_string(user_input, specified_string):\n",
    "    #Displayed the output\n",
    "    print(f\"You have entered the specified string: {specified_string}\")\n",
    "else:\n",
    "    #Displayed the output\n",
    "    print(f\"The entered string is not the specified string: {specified_string}\")"
   ]
  },
  {
   "cell_type": "markdown",
   "metadata": {
    "delateable": false,
    "editable": false
   },
   "source": [
    "<div class=\"warning\" style='padding:0.1em; background-color:#E9D8FD; color:#69337A'>\n",
    "<span>\n",
    "<p style='margin-top:1em; text-align:left'>\n",
    "<b>13. Define a function which will greet by taking user name as input.</b></p>\n",
    "</span>\n",
    " \n",
    "- input = name\n",
    "- hello 'name', hope you are doing well</div>\n",
    "\n",
    "\n",
    "\n"
   ]
  },
  {
   "cell_type": "code",
   "execution_count": null,
   "metadata": {},
   "outputs": [],
   "source": [
    "# Defined the function\n",
    "def greet_user(name):\n",
    "    # A greeting message.\n",
    "    return f\"Hello {name}, hope you are doing well!\"\n",
    "#The user's name.\n",
    "user_name = input(\"Enter your name: \")\n",
    "#Displayed the output\n",
    "print(greet_user(user_name))"
   ]
  },
  {
   "cell_type": "markdown",
   "metadata": {
    "delateable": false,
    "editable": false
   },
   "source": [
    "<div class=\"warning\" style='padding:0.1em; background-color:#E9D8FD; color:#69337A'>\n",
    "<span>\n",
    "<p style='margin-top:1em; text-align:left'>\n",
    "<b>14. Define a function which can give us the entire prime numbers within the given range.</b></p>\n",
    "<b>- For range(), input should be taken from the user.</b></p>\n",
    "</span>\n",
    "</div>\n",
    "\n"
   ]
  },
  {
   "cell_type": "code",
   "execution_count": 8,
   "metadata": {},
   "outputs": [
    {
     "name": "stdout",
     "output_type": "stream",
     "text": [
      "Enter the starting value of the range: 1\n",
      "Enter the ending value of the range: 50\n",
      "Prime numbers between 1 and 50: [2, 3, 5, 7, 11, 13, 17, 19, 23, 29, 31, 37, 41, 43, 47]\n"
     ]
    }
   ],
   "source": [
    "#defined the function for the range of prime number.\n",
    "def get_prime_numbers_in_range(start, end):\n",
    "    #Defined the function for check if the number is prime or not.\n",
    "    def is_prime(num):\n",
    "        if num < 2:\n",
    "            return False\n",
    "        for i in range(2, int(num**0.5) + 1):\n",
    "            if num % i == 0:\n",
    "                return False\n",
    "        return True\n",
    "\n",
    "    return [num for num in range(start, end + 1) if is_prime(num)]\n",
    "\n",
    "# Input from the user\n",
    "start_range = int(input(\"Enter the starting value of the range: \"))\n",
    "end_range = int(input(\"Enter the ending value of the range: \"))\n",
    "\n",
    "# Get the prime numbers\n",
    "prime_numbers = get_prime_numbers_in_range(start_range, end_range)\n",
    "print(f\"Prime numbers between {start_range} and {end_range}: {prime_numbers}\")\n"
   ]
  },
  {
   "cell_type": "markdown",
   "metadata": {
    "delateable": false,
    "editable": false
   },
   "source": [
    "<div class=\"warning\" style='padding:0.1em; background-color:#E9D8FD; color:#69337A'>\n",
    "<span>\n",
    "<p style='margin-top:1em; text-align:left'>\n",
    "<b>15.Check if a given string is palindrome.\n",
    "</b></p>\n",
    "</span>\n",
    "<br> A string is palindrome if the reverse of the string is same as itself.\n",
    "<br> For eg. madam\n",
    "<br> Print \" `string` is palindrome\" if it is palindrome \n",
    "<br> else \" `string` is not a palindrome\" if it is not a palindrome.\n",
    "\n",
    "<br><b> Hint : Use slicing to get reverse of the string.\n"
   ]
  },
  {
   "cell_type": "code",
   "execution_count": 11,
   "metadata": {},
   "outputs": [
    {
     "name": "stdout",
     "output_type": "stream",
     "text": [
      "Enter a string to check if it is a palindrome: madmam\n",
      "\"madmam\" is not a palindrome.\n"
     ]
    }
   ],
   "source": [
    "# Function to check if a given string is a palindrome using slicing.\n",
    "def check_palindrome(string):\n",
    "    # Check if the string is equal to its reverse using slicing\n",
    "    if string == string[::-1]:\n",
    "        print(f'\"{string}\" is a palindrome.')\n",
    "    else:\n",
    "        print(f'\"{string}\" is not a palindrome.')\n",
    "\n",
    "# Input from the user\n",
    "user_input = input(\"Enter a string to check if it is a palindrome: \")\n",
    "# Call the function\n",
    "check_palindrome(user_input)"
   ]
  },
  {
   "cell_type": "markdown",
   "metadata": {
    "delateable": false,
    "editable": false
   },
   "source": [
    "<div class=\"warning\" style='padding:0.1em; background-color:#E9D8FD; color:#69337A'>\n",
    "<span>\n",
    "<p style='margin-top:1em; text-align:left'>\n",
    "<b>16. Write a python program to find n is a leap year.\n",
    "</b></p>\n",
    "</span>\n",
    "<br> Print \"n is a leap year\" if the given year is leap year.\n",
    "<br> Print \"n is not a leap year\" if the given year is not leap year.\n",
    "<br> Replace n with given year.\n",
    "    \n",
    "<br><b>   Hint : Use nested if-else </b>\n",
    "</div>\n"
   ]
  },
  {
   "cell_type": "code",
   "execution_count": 12,
   "metadata": {},
   "outputs": [
    {
     "name": "stdout",
     "output_type": "stream",
     "text": [
      "Enter a year to check if it is a leap year: 1976\n",
      "1976 is a leap year.\n"
     ]
    }
   ],
   "source": [
    "# Function to check if a given year is a leap year using nested if-else.\n",
    "def check_leap_year(year):\n",
    "    #check if a given year is a leap year\n",
    "    if year % 4 == 0:\n",
    "        if year % 100 == 0:\n",
    "            if year % 400 == 0:\n",
    "                print(f\"{year} is a leap year.\")\n",
    "            else:\n",
    "                print(f\"{year} is not a leap year.\")\n",
    "        else:\n",
    "            print(f\"{year} is a leap year.\")\n",
    "    else:\n",
    "        print(f\"{year} is not a leap year.\")\n",
    "\n",
    "# Input from the user\n",
    "year = int(input(\"Enter a year to check if it is a leap year: \"))\n",
    "# Call the function\n",
    "check_leap_year(year)"
   ]
  },
  {
   "cell_type": "markdown",
   "metadata": {
    "delateable": false,
    "editable": false
   },
   "source": [
    "<div class=\"warning\" style='padding:0.1em; background-color:#E9D8FD; color:#69337A'>\n",
    "<span>\n",
    "<p style='margin-top:1em; text-align:left'>\n",
    "<b>17. Define a function to check if n is leap year.</b></p>\n",
    "</span>\n",
    "   \n",
    "<b> Hint: Using the calendar module </b>\n",
    "</div>\n"
   ]
  },
  {
   "cell_type": "code",
   "execution_count": 15,
   "metadata": {},
   "outputs": [
    {
     "name": "stdout",
     "output_type": "stream",
     "text": [
      "Enter a year to check if it is a leap year: 1900\n",
      "1900 is not a leap year.\n"
     ]
    }
   ],
   "source": [
    "#imports from library\n",
    "import calendar\n",
    "# Function to check if a given year is a leap year using the calendar module.\n",
    "def is_leap_year(year):\n",
    "    #check if a given year is a leap year\n",
    "    if calendar.isleap(year):\n",
    "        print(f\"{year} is a leap year.\")\n",
    "    else:\n",
    "        print(f\"{year} is not a leap year.\")\n",
    "\n",
    "# Input from the user\n",
    "year = int(input(\"Enter a year to check if it is a leap year: \"))\n",
    "# Call the function\n",
    "is_leap_year(year)"
   ]
  },
  {
   "cell_type": "markdown",
   "metadata": {
    "delateable": false,
    "editable": false
   },
   "source": [
    "# <div class=\"warning\" style='padding:0.1em; background-color:#E9D8FD; color:#69337A'>\n",
    "<span>\n",
    "<p style='margin-top:1em; text-align:left'>\n",
    "<b>18. Find the largest among three numbers.</b></p>\n",
    "</span>\n",
    "\n",
    " eg. Consider a,b,c as the three numbers, find which is the  largest number among them."
   ]
  },
  {
   "cell_type": "code",
   "execution_count": 17,
   "metadata": {},
   "outputs": [
    {
     "name": "stdout",
     "output_type": "stream",
     "text": [
      "Enter the first number: 354\n",
      "Enter the second number: 1234\n",
      "Enter the third number: 22\n",
      "1234 is the largest number.\n"
     ]
    }
   ],
   "source": [
    "#Function to find the largest number among three numbers.\n",
    "def find_largest(a, b, c):\n",
    "    #The three numbers to be compared.\n",
    "    if a >= b and a >= c:\n",
    "        print(f\"{a} is the largest number.\")\n",
    "    elif b >= a and b >= c:\n",
    "        print(f\"{b} is the largest number.\")\n",
    "    else:\n",
    "        print(f\"{c} is the largest number.\")\n",
    "\n",
    "# Input from the user\n",
    "a = int(input(\"Enter the first number: \"))\n",
    "b = int(input(\"Enter the second number: \"))\n",
    "c = int(input(\"Enter the third number: \"))\n",
    "# Call the function\n",
    "find_largest(a, b, c)"
   ]
  },
  {
   "cell_type": "markdown",
   "metadata": {
    "delateable": false,
    "editable": false
   },
   "source": [
    "\n",
    "<div class=\"warning\" style='padding:0.1em; background-color:#E9D8FD; color:#69337A'>\n",
    "<span>\n",
    "<p style='margin-top:1em; text-align:left'>\n",
    "<b>19. Write a python program to print even numbers from 1 to 15 by using range() function.\n",
    "</b></p>\n",
    "</span>\n"
   ]
  },
  {
   "cell_type": "code",
   "execution_count": 19,
   "metadata": {},
   "outputs": [
    {
     "name": "stdout",
     "output_type": "stream",
     "text": [
      "2\n",
      "4\n",
      "6\n",
      "8\n",
      "10\n",
      "12\n",
      "14\n"
     ]
    }
   ],
   "source": [
    "#Function to print even numbers from 1 to 15 using range().\n",
    "def print_even_numbers():\n",
    "    # Start at 2, go up to 15, step by 2\n",
    "    for number in range(2, 16, 2):  \n",
    "        print(number)\n",
    "# Call the function\n",
    "print_even_numbers()"
   ]
  },
  {
   "cell_type": "markdown",
   "metadata": {
    "delateable": false,
    "editable": false
   },
   "source": [
    "<div class=\"warning\" style='padding:0.1em; background-color:#E9D8FD; color:#69337A'>\n",
    "<span>\n",
    "<p style='margin-top:1em; text-align:left'>\n",
    "<b>20. Write a program to guess the integer which is selected by computer using  randint() function.\n",
    "</b></p>\n",
    "</span>\n",
    "\n",
    "- Use random() and randint().\n",
    "- Range should be 1 to 10.\n",
    "- If user's number is greater than 10 then program should say your guess is too high.\n",
    "- If user input is matches with the computer choice then your program should say \"yey! correct guess\".\n",
    "- Otherwise your program should say too low.\n",
    "\n",
    "    <b>- Important point to note is, this must be an iterative process until the correct guess.</div>"
   ]
  },
  {
   "cell_type": "code",
   "execution_count": 23,
   "metadata": {},
   "outputs": [
    {
     "name": "stdout",
     "output_type": "stream",
     "text": [
      "Guess the number (between 1 and 10): 5\n",
      "Your guess is too low!\n",
      "Guess the number (between 1 and 10): 6\n",
      "Yey! Correct guess.\n"
     ]
    }
   ],
   "source": [
    "import random\n",
    "def guess_the_number():\n",
    "    # Computer randomly selects a number between 1 and 10\n",
    "    computer_choice = random.randint(1, 10)\n",
    "    \n",
    "    # Iterative process for guessing the number\n",
    "    while True:\n",
    "        # Get user's guess\n",
    "        user_guess = int(input(\"Guess the number (between 1 and 10): \"))\n",
    "        \n",
    "        # Check if the user's guess is too high, too low, or correct\n",
    "        if user_guess > 10:\n",
    "            print(\"Your guess is too high!\")\n",
    "        elif user_guess == computer_choice:\n",
    "            print(\"Yey! Correct guess.\")\n",
    "            break  # Exit the loop when the guess is correct\n",
    "        else:\n",
    "            print(\"Your guess is too low!\")\n",
    "\n",
    "# Call the function to start the game\n",
    "guess_the_number()"
   ]
  },
  {
   "cell_type": "code",
   "execution_count": null,
   "metadata": {},
   "outputs": [],
   "source": []
  }
 ],
 "metadata": {
  "kernelspec": {
   "display_name": "Python 3 (ipykernel)",
   "language": "python",
   "name": "python3"
  },
  "language_info": {
   "codemirror_mode": {
    "name": "ipython",
    "version": 3
   },
   "file_extension": ".py",
   "mimetype": "text/x-python",
   "name": "python",
   "nbconvert_exporter": "python",
   "pygments_lexer": "ipython3",
   "version": "3.9.7"
  }
 },
 "nbformat": 4,
 "nbformat_minor": 4
}
